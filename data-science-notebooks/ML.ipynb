{
  "nbformat": 4,
  "nbformat_minor": 0,
  "metadata": {
    "colab": {
      "provenance": [],
      "gpuType": "T4",
      "collapsed_sections": [
        "ixtHKkCnttwO",
        "lgcTCTpSt37y",
        "sw3dG1qsBfJY",
        "PjnqaKgI_c6Y",
        "wVrHUXlHBabi",
        "utkcj3hVLMkJ",
        "kkly5TQ_VMZS",
        "0e1a9fzkH0la",
        "Y4UvrM7GD3Ir",
        "866tpLFcyLE_"
      ]
    },
    "kernelspec": {
      "name": "python3",
      "display_name": "Python 3"
    },
    "language_info": {
      "name": "python"
    }
  },
  "cells": [
    {
      "cell_type": "markdown",
      "source": [
        "# **Machine Learning**"
      ],
      "metadata": {
        "id": "2InGTEiD3U12"
      }
    },
    {
      "cell_type": "markdown",
      "source": [
        "### Importación de Librerías"
      ],
      "metadata": {
        "id": "MDB0Fpusslfl"
      }
    },
    {
      "cell_type": "code",
      "execution_count": null,
      "metadata": {
        "id": "GjeclejhDhxO"
      },
      "outputs": [],
      "source": [
        "import pandas as pd\n",
        "import numpy as np\n",
        "from sklearn.feature_extraction.text import TfidfVectorizer\n",
        "from sklearn.feature_extraction.text import CountVectorizer\n",
        "from sklearn.metrics.pairwise import cosine_similarity"
      ]
    },
    {
      "cell_type": "markdown",
      "source": [
        "## **Consideraciones Indiciales para la Implementación de un Sistema de Recomendación de Películas**"
      ],
      "metadata": {
        "id": "gTJRwIi03oxE"
      }
    },
    {
      "cell_type": "markdown",
      "source": [
        "A continuación se presentarán diferentes modelos de Sistema de Recomendación de Películas basados en columnas analizadas en el EDA y siguiendo enfoques comúnmente utilizados. Debido a las limitaciones computacionales de Google Colab, se adaptarán algunos parámetros y métodos, y el código se presentará estratégicamente separado en diferentes celdas en lugar de en una única función.\n",
        "\n",
        "Es importante tener en cuenta que la selección final del modelo que se utilizará en este proyecto estará sujeta a las limitaciones del plan de desarrollador gratuito de Render que ofrece 512 MB de memoria RAM. Este servicio se utilizará para implementar el modelo."
      ],
      "metadata": {
        "id": "6Qjg3_EMIc86"
      }
    },
    {
      "cell_type": "markdown",
      "source": [
        "## **Ingesta de Datos limpios**"
      ],
      "metadata": {
        "id": "ixtHKkCnttwO"
      }
    },
    {
      "cell_type": "code",
      "source": [
        "# leer los datos que fueron previamente analizados en el EDA\n",
        "df = pd.read_csv('/content/drive/MyDrive/Colab Notebooks/PI_MLOps/movies_clean.csv')"
      ],
      "metadata": {
        "id": "0-O-40oYZzBl"
      },
      "execution_count": null,
      "outputs": []
    },
    {
      "cell_type": "code",
      "source": [
        "# Mostrar información del número de columnas, filas, tipos de datos y valores faltantes presentes en \"df\"\n",
        "df.info()"
      ],
      "metadata": {
        "colab": {
          "base_uri": "https://localhost:8080/"
        },
        "id": "lRvWG8RtY7jn",
        "outputId": "c5ec62df-140d-4366-96d3-585913bf2542"
      },
      "execution_count": null,
      "outputs": [
        {
          "output_type": "stream",
          "name": "stdout",
          "text": [
            "<class 'pandas.core.frame.DataFrame'>\n",
            "RangeIndex: 45346 entries, 0 to 45345\n",
            "Data columns (total 22 columns):\n",
            " #   Column                Non-Null Count  Dtype  \n",
            "---  ------                --------------  -----  \n",
            " 0   budget                45346 non-null  int64  \n",
            " 1   genres                44900 non-null  object \n",
            " 2   id                    45346 non-null  int64  \n",
            " 3   original_language     45335 non-null  object \n",
            " 4   overview              45346 non-null  object \n",
            " 5   popularity            45346 non-null  float64\n",
            " 6   production_companies  33557 non-null  object \n",
            " 7   production_countries  39138 non-null  object \n",
            " 8   release_date          45346 non-null  object \n",
            " 9   revenue               45346 non-null  float64\n",
            " 10  runtime               45327 non-null  float64\n",
            " 11  status                45266 non-null  object \n",
            " 12  tagline               20383 non-null  object \n",
            " 13  title                 45346 non-null  object \n",
            " 14  vote_average          45346 non-null  float64\n",
            " 15  vote_count            45346 non-null  float64\n",
            " 16  languages             41457 non-null  object \n",
            " 17  director              44510 non-null  object \n",
            " 18  actors                42997 non-null  object \n",
            " 19  overview_clean        45346 non-null  object \n",
            " 20  release_year          45346 non-null  int64  \n",
            " 21  return                45346 non-null  float64\n",
            "dtypes: float64(6), int64(3), object(13)\n",
            "memory usage: 7.6+ MB\n"
          ]
        }
      ]
    },
    {
      "cell_type": "code",
      "source": [
        "# Seleccionamos solo las filas duplicadas en la columna 'title'\n",
        "duplicados = df[df.duplicated(['title'], keep=False)]\n",
        "\n",
        "# Ordenamos el DataFrame por el valor de la columna 'title'\n",
        "duplicados = duplicados.sort_values('title')\n",
        "\n",
        "duplicados[['title', 'vote_count', 'release_year', 'production_companies']]"
      ],
      "metadata": {
        "colab": {
          "base_uri": "https://localhost:8080/",
          "height": 423
        },
        "id": "oZLLbL5MTEoB",
        "outputId": "84fe76ce-6a47-4d52-e082-d3ece9f6b9a2"
      },
      "execution_count": null,
      "outputs": [
        {
          "output_type": "execute_result",
          "data": {
            "text/plain": [
              "              title  vote_count  release_year  \\\n",
              "24374    10 Minutes         7.0          2002   \n",
              "42590    10 Minutes         2.0          2014   \n",
              "1159   12 Angry Men      2130.0          1957   \n",
              "15187  12 Angry Men        59.0          1997   \n",
              "32730     12 Chairs        24.0          1971   \n",
              "...             ...         ...           ...   \n",
              "11638        Zodiac      2080.0          2007   \n",
              "11163          Zoom       140.0          2006   \n",
              "37819          Zoom        25.0          2015   \n",
              "5756           Zulu       137.0          1964   \n",
              "24618          Zulu       176.0          2013   \n",
              "\n",
              "                                    production_companies  \n",
              "24374                                                NaN  \n",
              "42590                                                NaN  \n",
              "1159               United Artists,Orion-Nova Productions  \n",
              "15187                                     MGM Television  \n",
              "32730                                            Mosfilm  \n",
              "...                                                  ...  \n",
              "11638   Paramount Pictures,Warner Bros.,Phoenix Pictures  \n",
              "11163               Columbia Pictures,Revolution Studios  \n",
              "37819                            Rhombus Media,O2 Filmes  \n",
              "5756                                       Diamond Films  \n",
              "24618  Eskwad,M6 Films,Canal+,Pathé,Ciné+,Lobster Tre...  \n",
              "\n",
              "[5454 rows x 4 columns]"
            ],
            "text/html": [
              "\n",
              "  <div id=\"df-4678ae45-60e9-4851-805a-a4c551426eb3\">\n",
              "    <div class=\"colab-df-container\">\n",
              "      <div>\n",
              "<style scoped>\n",
              "    .dataframe tbody tr th:only-of-type {\n",
              "        vertical-align: middle;\n",
              "    }\n",
              "\n",
              "    .dataframe tbody tr th {\n",
              "        vertical-align: top;\n",
              "    }\n",
              "\n",
              "    .dataframe thead th {\n",
              "        text-align: right;\n",
              "    }\n",
              "</style>\n",
              "<table border=\"1\" class=\"dataframe\">\n",
              "  <thead>\n",
              "    <tr style=\"text-align: right;\">\n",
              "      <th></th>\n",
              "      <th>title</th>\n",
              "      <th>vote_count</th>\n",
              "      <th>release_year</th>\n",
              "      <th>production_companies</th>\n",
              "    </tr>\n",
              "  </thead>\n",
              "  <tbody>\n",
              "    <tr>\n",
              "      <th>24374</th>\n",
              "      <td>10 Minutes</td>\n",
              "      <td>7.0</td>\n",
              "      <td>2002</td>\n",
              "      <td>NaN</td>\n",
              "    </tr>\n",
              "    <tr>\n",
              "      <th>42590</th>\n",
              "      <td>10 Minutes</td>\n",
              "      <td>2.0</td>\n",
              "      <td>2014</td>\n",
              "      <td>NaN</td>\n",
              "    </tr>\n",
              "    <tr>\n",
              "      <th>1159</th>\n",
              "      <td>12 Angry Men</td>\n",
              "      <td>2130.0</td>\n",
              "      <td>1957</td>\n",
              "      <td>United Artists,Orion-Nova Productions</td>\n",
              "    </tr>\n",
              "    <tr>\n",
              "      <th>15187</th>\n",
              "      <td>12 Angry Men</td>\n",
              "      <td>59.0</td>\n",
              "      <td>1997</td>\n",
              "      <td>MGM Television</td>\n",
              "    </tr>\n",
              "    <tr>\n",
              "      <th>32730</th>\n",
              "      <td>12 Chairs</td>\n",
              "      <td>24.0</td>\n",
              "      <td>1971</td>\n",
              "      <td>Mosfilm</td>\n",
              "    </tr>\n",
              "    <tr>\n",
              "      <th>...</th>\n",
              "      <td>...</td>\n",
              "      <td>...</td>\n",
              "      <td>...</td>\n",
              "      <td>...</td>\n",
              "    </tr>\n",
              "    <tr>\n",
              "      <th>11638</th>\n",
              "      <td>Zodiac</td>\n",
              "      <td>2080.0</td>\n",
              "      <td>2007</td>\n",
              "      <td>Paramount Pictures,Warner Bros.,Phoenix Pictures</td>\n",
              "    </tr>\n",
              "    <tr>\n",
              "      <th>11163</th>\n",
              "      <td>Zoom</td>\n",
              "      <td>140.0</td>\n",
              "      <td>2006</td>\n",
              "      <td>Columbia Pictures,Revolution Studios</td>\n",
              "    </tr>\n",
              "    <tr>\n",
              "      <th>37819</th>\n",
              "      <td>Zoom</td>\n",
              "      <td>25.0</td>\n",
              "      <td>2015</td>\n",
              "      <td>Rhombus Media,O2 Filmes</td>\n",
              "    </tr>\n",
              "    <tr>\n",
              "      <th>5756</th>\n",
              "      <td>Zulu</td>\n",
              "      <td>137.0</td>\n",
              "      <td>1964</td>\n",
              "      <td>Diamond Films</td>\n",
              "    </tr>\n",
              "    <tr>\n",
              "      <th>24618</th>\n",
              "      <td>Zulu</td>\n",
              "      <td>176.0</td>\n",
              "      <td>2013</td>\n",
              "      <td>Eskwad,M6 Films,Canal+,Pathé,Ciné+,Lobster Tre...</td>\n",
              "    </tr>\n",
              "  </tbody>\n",
              "</table>\n",
              "<p>5454 rows × 4 columns</p>\n",
              "</div>\n",
              "      <button class=\"colab-df-convert\" onclick=\"convertToInteractive('df-4678ae45-60e9-4851-805a-a4c551426eb3')\"\n",
              "              title=\"Convert this dataframe to an interactive table.\"\n",
              "              style=\"display:none;\">\n",
              "        \n",
              "  <svg xmlns=\"http://www.w3.org/2000/svg\" height=\"24px\"viewBox=\"0 0 24 24\"\n",
              "       width=\"24px\">\n",
              "    <path d=\"M0 0h24v24H0V0z\" fill=\"none\"/>\n",
              "    <path d=\"M18.56 5.44l.94 2.06.94-2.06 2.06-.94-2.06-.94-.94-2.06-.94 2.06-2.06.94zm-11 1L8.5 8.5l.94-2.06 2.06-.94-2.06-.94L8.5 2.5l-.94 2.06-2.06.94zm10 10l.94 2.06.94-2.06 2.06-.94-2.06-.94-.94-2.06-.94 2.06-2.06.94z\"/><path d=\"M17.41 7.96l-1.37-1.37c-.4-.4-.92-.59-1.43-.59-.52 0-1.04.2-1.43.59L10.3 9.45l-7.72 7.72c-.78.78-.78 2.05 0 2.83L4 21.41c.39.39.9.59 1.41.59.51 0 1.02-.2 1.41-.59l7.78-7.78 2.81-2.81c.8-.78.8-2.07 0-2.86zM5.41 20L4 18.59l7.72-7.72 1.47 1.35L5.41 20z\"/>\n",
              "  </svg>\n",
              "      </button>\n",
              "      \n",
              "  <style>\n",
              "    .colab-df-container {\n",
              "      display:flex;\n",
              "      flex-wrap:wrap;\n",
              "      gap: 12px;\n",
              "    }\n",
              "\n",
              "    .colab-df-convert {\n",
              "      background-color: #E8F0FE;\n",
              "      border: none;\n",
              "      border-radius: 50%;\n",
              "      cursor: pointer;\n",
              "      display: none;\n",
              "      fill: #1967D2;\n",
              "      height: 32px;\n",
              "      padding: 0 0 0 0;\n",
              "      width: 32px;\n",
              "    }\n",
              "\n",
              "    .colab-df-convert:hover {\n",
              "      background-color: #E2EBFA;\n",
              "      box-shadow: 0px 1px 2px rgba(60, 64, 67, 0.3), 0px 1px 3px 1px rgba(60, 64, 67, 0.15);\n",
              "      fill: #174EA6;\n",
              "    }\n",
              "\n",
              "    [theme=dark] .colab-df-convert {\n",
              "      background-color: #3B4455;\n",
              "      fill: #D2E3FC;\n",
              "    }\n",
              "\n",
              "    [theme=dark] .colab-df-convert:hover {\n",
              "      background-color: #434B5C;\n",
              "      box-shadow: 0px 1px 3px 1px rgba(0, 0, 0, 0.15);\n",
              "      filter: drop-shadow(0px 1px 2px rgba(0, 0, 0, 0.3));\n",
              "      fill: #FFFFFF;\n",
              "    }\n",
              "  </style>\n",
              "\n",
              "      <script>\n",
              "        const buttonEl =\n",
              "          document.querySelector('#df-4678ae45-60e9-4851-805a-a4c551426eb3 button.colab-df-convert');\n",
              "        buttonEl.style.display =\n",
              "          google.colab.kernel.accessAllowed ? 'block' : 'none';\n",
              "\n",
              "        async function convertToInteractive(key) {\n",
              "          const element = document.querySelector('#df-4678ae45-60e9-4851-805a-a4c551426eb3');\n",
              "          const dataTable =\n",
              "            await google.colab.kernel.invokeFunction('convertToInteractive',\n",
              "                                                     [key], {});\n",
              "          if (!dataTable) return;\n",
              "\n",
              "          const docLinkHtml = 'Like what you see? Visit the ' +\n",
              "            '<a target=\"_blank\" href=https://colab.research.google.com/notebooks/data_table.ipynb>data table notebook</a>'\n",
              "            + ' to learn more about interactive tables.';\n",
              "          element.innerHTML = '';\n",
              "          dataTable['output_type'] = 'display_data';\n",
              "          await google.colab.output.renderOutput(dataTable, element);\n",
              "          const docLink = document.createElement('div');\n",
              "          docLink.innerHTML = docLinkHtml;\n",
              "          element.appendChild(docLink);\n",
              "        }\n",
              "      </script>\n",
              "    </div>\n",
              "  </div>\n",
              "  "
            ]
          },
          "metadata": {},
          "execution_count": 4
        }
      ]
    },
    {
      "cell_type": "markdown",
      "source": [
        "Hay títulos duplicados de películas que fueron lanzadas por diferentes compañías productoras en años distintos y que de hecho presentan votaciones distintas. Esto es un dato importante a la hora de construir el modelo de Sistema de Recomendación de Películas."
      ],
      "metadata": {
        "id": "0PKVHX0mmI3B"
      }
    },
    {
      "cell_type": "markdown",
      "source": [
        "## **Modelo de Recomendación de Película basado en contenido**"
      ],
      "metadata": {
        "id": "lgcTCTpSt37y"
      }
    },
    {
      "cell_type": "markdown",
      "source": [
        "Un modelo de sistema de recomendación de películas basado en contenido es un algoritmo que analiza las características de las películas (como el género, el reparto, la sinopsis, etc.) para recomendar películas similares a las que un usuario ha disfrutado en el pasado.\n",
        "\n",
        "Este tipo de modelo utiliza técnicas de procesamiento de lenguaje natural (NLP) y aprendizaje automático para analizar los datos de las películas y crear un perfil de cada película, que se utiliza para calcular la similitud entre las películas."
      ],
      "metadata": {
        "id": "udI3kidU6nm6"
      }
    },
    {
      "cell_type": "markdown",
      "source": [
        "### Modelo 1\n",
        "\n",
        "Considerando únicamente la descripciones de las películas ```overview```"
      ],
      "metadata": {
        "id": "XWPzPZBcpPdR"
      }
    },
    {
      "cell_type": "markdown",
      "source": [
        "Esta es una técnica de recomendación útil para encontrar películas similares a una película de entrada utilizando la información de texto de la descripción de cada película.\n",
        "\n",
        "Para este modelo se usara la técnica TF-IDF para crear una representación numérica de la información de texto de la descripción de cada película. La representación numérica se utiliza para calcular la similitud coseno entre cada par de películas en el dataset y, a continuación, se seleccionan las películas más similares a una película de entrada como recomendaciones.\n",
        "\n"
      ],
      "metadata": {
        "id": "7Wo0Ez7NdYIu"
      }
    },
    {
      "cell_type": "markdown",
      "source": [
        "Campos a utilizar ```title```, ```overview```"
      ],
      "metadata": {
        "id": "banUreo5_B-M"
      }
    },
    {
      "cell_type": "code",
      "source": [
        "# Seleccionando sólo las columnas necesarias para el modelo\n",
        "modelo1 = df[['title', 'overview_clean']].copy()"
      ],
      "metadata": {
        "id": "xSBo3EQoV2H-"
      },
      "execution_count": null,
      "outputs": []
    },
    {
      "cell_type": "code",
      "source": [
        "# Se crea una instancia de la clase TfidfVectorizer con los parámetros deseados\n",
        "tfidf_1 = TfidfVectorizer(stop_words=\"english\", ngram_range = (1, 2))\n",
        "# Aplicar la transformación TF-IDF al texto contenido en la columna \"overview\" del dataframe 'modelo1'\n",
        "tfidf_matriz_1 = tfidf_1.fit_transform(modelo1['overview_clean'])"
      ],
      "metadata": {
        "id": "W6yIVSGwTKOW"
      },
      "execution_count": null,
      "outputs": []
    },
    {
      "cell_type": "code",
      "source": [
        "def get_recomendacion_m1(titulo):\n",
        "  # Se crea un objeto 'indices' que mapea los títulos de las películas a sus índices correspondientes en el DataFrame 'modelo1'\n",
        "  indices = pd.Series(modelo1.index, index=modelo1['title']).drop_duplicates()\n",
        "  # Se busca el índice de la película de entrada utilizando el objeto 'indices'\n",
        "  idx = pd.Series(indices[titulo]) if titulo in indices else None\n",
        "  # Si la película de entrada no se encuentra en el DataFrame, se devuelve un mensaje de error\n",
        "  if idx is None:\n",
        "    return \"Película no encontrada\"\n",
        "  # Si el título de la película está duplicado, se devuelve el índice de la primera aparición del título en el DataFrame\n",
        "  if modelo1.duplicated(['title']).any():\n",
        "    primer_idx = modelo1[modelo1['title'] == titulo].index[0]\n",
        "    if not idx.equals(pd.Series(primer_idx)):\n",
        "      idx = pd.Series(primer_idx)\n",
        "  # Se calcula la similitud coseno entre la película de entrada y todas las demás películas en la matriz de características\n",
        "  simil = sorted(enumerate(cosine_similarity(tfidf_matriz_1[idx], tfidf_matriz_1).flatten()), key=lambda x: x[1], reverse=True)[1:6]\n",
        "  # Se obtienen los títulos de las películas más similares utilizando el índice de cada película\n",
        "  recomendaciones = modelo1.iloc[[i[0] for i in simil], :]['title'].tolist()\n",
        "  # Se devuelve la lista de títulos de las películas recomendadas\n",
        "  return recomendaciones"
      ],
      "metadata": {
        "id": "jo7DyP8uWAHy"
      },
      "execution_count": null,
      "outputs": []
    },
    {
      "cell_type": "code",
      "source": [
        "# Prueba #1\n",
        "get_recomendacion_m1('The Dark Knight Rises')"
      ],
      "metadata": {
        "colab": {
          "base_uri": "https://localhost:8080/"
        },
        "id": "ejvGEid7kOHy",
        "outputId": "3c2b2546-5abf-4946-fbc7-0042c290ef50"
      },
      "execution_count": null,
      "outputs": [
        {
          "output_type": "execute_result",
          "data": {
            "text/plain": [
              "['The Dark Knight',\n",
              " 'Batman Forever',\n",
              " 'Batman',\n",
              " 'Batman Returns',\n",
              " 'Batman: Under the Red Hood']"
            ]
          },
          "metadata": {},
          "execution_count": 8
        }
      ]
    },
    {
      "cell_type": "code",
      "source": [
        "# Prueba #2\n",
        "get_recomendacion_m1('The Avengers')"
      ],
      "metadata": {
        "colab": {
          "base_uri": "https://localhost:8080/"
        },
        "id": "8FAPgYV0kVMM",
        "outputId": "26e39b4b-13d3-489e-f7ee-9530fcc5bef6"
      },
      "execution_count": null,
      "outputs": [
        {
          "output_type": "execute_result",
          "data": {
            "text/plain": [
              "['The Work and the Glory',\n",
              " \"Sir Arne's Treasure\",\n",
              " 'Monty Python and the Holy Grail',\n",
              " 'A Beast at Bay',\n",
              " 'Enigma']"
            ]
          },
          "metadata": {},
          "execution_count": 9
        }
      ]
    },
    {
      "cell_type": "code",
      "source": [
        "# Prueba #3\n",
        "get_recomendacion_m1('Wonder Woman')"
      ],
      "metadata": {
        "colab": {
          "base_uri": "https://localhost:8080/"
        },
        "id": "cJSm2WdgGHfg",
        "outputId": "0cd66abc-ab40-4a1d-edf9-78dfc53e7d75"
      },
      "execution_count": null,
      "outputs": [
        {
          "output_type": "execute_result",
          "data": {
            "text/plain": [
              "['Wide Eyed and Legless',\n",
              " 'Trevor Noah: The Daywalker',\n",
              " 'The Machinist',\n",
              " 'Diana',\n",
              " 'Our Dancing Daughters']"
            ]
          },
          "metadata": {},
          "execution_count": 10
        }
      ]
    },
    {
      "cell_type": "code",
      "source": [
        "# Prueba #4 (Película que ha sido lanzada varias veces bajo el mismo nombre)\n",
        "get_recomendacion_m1('Titanic')"
      ],
      "metadata": {
        "colab": {
          "base_uri": "https://localhost:8080/"
        },
        "id": "ech9y4YMYdFu",
        "outputId": "a018c2fe-eecc-4fb6-fedd-1a5a23b9aec5"
      },
      "execution_count": null,
      "outputs": [
        {
          "output_type": "execute_result",
          "data": {
            "text/plain": [
              "['Grantham and Rose',\n",
              " 'Take Care of the Women!',\n",
              " 'The Legend of 1900',\n",
              " 'Raise the Titanic',\n",
              " 'Beyond the Poseidon Adventure']"
            ]
          },
          "metadata": {},
          "execution_count": 11
        }
      ]
    },
    {
      "cell_type": "markdown",
      "source": [
        "**Conclusión:**\n",
        "\n",
        "El hecho de que el modelo pueda identificar correctamente que \"The Dark Knight Rises\" es una película de Batman y recomendar otras películas similares de Batman es un buen indicio de que el modelo está funcionando adecuadamente para ciertos casos. Sin embargo, el hecho de que no pueda hacer recomendaciones precisas para películas como \"The Avengers\" y \"Titanic\" sugiere que el modelo puede tener limitaciones importantes en su capacidad para hacer recomendaciones específicas y personalizadas.\n",
        "\n",
        "Una de las principales limitaciones del modelo es que no tiene en cuenta otras características importantes como los actores, los directores y el género de las películas. Estos son factores importantes que pueden influir en las preferencias de los usuarios y, por lo tanto, es probable que limiten la capacidad del modelo para hacer mejores recomendaciones.\n"
      ],
      "metadata": {
        "id": "wc4ZFvuGSTWb"
      }
    },
    {
      "cell_type": "markdown",
      "source": [
        "### Modelo 2\n",
        "\n",
        "Para este caso agregaremos un atributo categórico más ```overview``` y ```genres```"
      ],
      "metadata": {
        "id": "sw3dG1qsBfJY"
      }
    },
    {
      "cell_type": "code",
      "source": [
        "# Seleccionando sólo las columnas necesarias para el modelo\n",
        "modelo2 = df[['title', 'overview', 'genres']].copy()\n",
        "# Se realiza un preprocesamiento en la columna \"genres\" para separar los géneros y convertirlos en palabras individuales\n",
        "modelo2['genres'] = modelo2['genres'].fillna('').apply(lambda x: ' '.join(x.replace(',', ' ').replace('-', '').lower().split()))"
      ],
      "metadata": {
        "id": "MHkctHnj7wP5"
      },
      "execution_count": null,
      "outputs": []
    },
    {
      "cell_type": "code",
      "source": [
        "# Se crea una instancia de la clase TfidfVectorizer con los parámetros deseados\n",
        "tfidf_2 = TfidfVectorizer(stop_words=\"english\", ngram_range=(1, 2))\n",
        "# Incluir la columna 'vote_count' en la concatenación de columnas\n",
        "modelo2['concatenado'] = modelo2['overview'] + ' ' + modelo2['genres']\n",
        "# Aplicar la transformación TF-IDF al texto contenido en las columnas \"overview\" y \"genres\" del dataframe 'modelo2'\n",
        "tfidf_matriz_2 = tfidf_2.fit_transform(modelo2['concatenado'])"
      ],
      "metadata": {
        "id": "WFsVNa_27duA"
      },
      "execution_count": null,
      "outputs": []
    },
    {
      "cell_type": "code",
      "source": [
        "def get_recomendacion_m2(titulo):\n",
        "  # Se crea un objeto 'indices' que mapea los títulos de las películas a sus índices correspondientes en el DataFrame 'modelo2'\n",
        "  indices = pd.Series(modelo2.index, index=modelo2['title']).drop_duplicates()\n",
        "  # Se busca el índice de la película de entrada utilizando el objeto 'indices'\n",
        "  idx = pd.Series(indices[titulo]) if titulo in indices else None\n",
        "  # Si la película de entrada no se encuentra en el DataFrame, se devuelve un mensaje\n",
        "  if idx is None:\n",
        "    return \"Película no encontrada\"\n",
        "  # Si el título de la película está duplicado, se devuelve el índice de la primera aparición del título en el DataFrame\n",
        "  if modelo2.duplicated(['title']).any():\n",
        "    primer_idx = modelo2[modelo2['title'] == titulo].index[0]\n",
        "    if not idx.equals(pd.Series(primer_idx)):\n",
        "      idx = pd.Series(primer_idx)\n",
        "  # Se calcula la similitud coseno entre la película de entrada y todas las demás películas en la matriz de características\n",
        "  simil = sorted(enumerate(cosine_similarity(tfidf_matriz_2[idx], tfidf_matriz_2).flatten()), key=lambda x: x[1], reverse=True)[1:6]\n",
        "  # Se obtienen los títulos de las películas más similares utilizando el índice de cada película\n",
        "  recomendaciones = modelo2.iloc[[i[0] for i in simil], :]['title'].tolist()\n",
        "  # Se devuelve la lista de títulos de las películas recomendadas\n",
        "  return recomendaciones"
      ],
      "metadata": {
        "id": "tvx9itApfZU2"
      },
      "execution_count": null,
      "outputs": []
    },
    {
      "cell_type": "code",
      "source": [
        "# Prueba #1\n",
        "get_recomendacion_m2('The Dark Knight Rises')"
      ],
      "metadata": {
        "id": "IZIWy65Ns6eh",
        "colab": {
          "base_uri": "https://localhost:8080/"
        },
        "outputId": "b8db8035-eac9-4dd3-8f85-84620e98865c"
      },
      "execution_count": null,
      "outputs": [
        {
          "output_type": "execute_result",
          "data": {
            "text/plain": [
              "['The Dark Knight',\n",
              " 'Batman Forever',\n",
              " 'Batman',\n",
              " 'Batman Returns',\n",
              " 'Batman: Under the Red Hood']"
            ]
          },
          "metadata": {},
          "execution_count": 17
        }
      ]
    },
    {
      "cell_type": "code",
      "source": [
        "# Prueba #2\n",
        "get_recomendacion_m2('The Avengers')"
      ],
      "metadata": {
        "colab": {
          "base_uri": "https://localhost:8080/"
        },
        "id": "gVMUFVVY6iPK",
        "outputId": "30c26196-feef-4db1-a19e-6337a82e7860"
      },
      "execution_count": null,
      "outputs": [
        {
          "output_type": "execute_result",
          "data": {
            "text/plain": [
              "['The Work and the Glory',\n",
              " 'Monty Python and the Holy Grail',\n",
              " \"Sir Arne's Treasure\",\n",
              " 'Prince of Persia: The Sands of Time',\n",
              " 'Sir Henry at Rawlinson End']"
            ]
          },
          "metadata": {},
          "execution_count": 18
        }
      ]
    },
    {
      "cell_type": "code",
      "source": [
        "# Prueba #3 (Película que ha sido lanzada varias veces bajo el mismo nombre)\n",
        "get_recomendacion_m2('Wonder Woman')"
      ],
      "metadata": {
        "colab": {
          "base_uri": "https://localhost:8080/"
        },
        "id": "FPLTpA1aGc0n",
        "outputId": "9d1c9978-9a8e-4133-af24-6092e1566f57"
      },
      "execution_count": null,
      "outputs": [
        {
          "output_type": "execute_result",
          "data": {
            "text/plain": [
              "['Trevor Noah: The Daywalker',\n",
              " 'The Machinist',\n",
              " 'Wide Eyed and Legless',\n",
              " 'Diana',\n",
              " 'The Sheik']"
            ]
          },
          "metadata": {},
          "execution_count": 20
        }
      ]
    },
    {
      "cell_type": "code",
      "source": [
        "# Prueba #4 (Película que ha sido lanzada varias veces bajo el mismo nombre)\n",
        "get_recomendacion_m2('Titanic')"
      ],
      "metadata": {
        "colab": {
          "base_uri": "https://localhost:8080/"
        },
        "id": "m8hseP93aISg",
        "outputId": "25aa940b-ada7-42d4-e0ec-c3d4bf0c3ddc"
      },
      "execution_count": null,
      "outputs": [
        {
          "output_type": "execute_result",
          "data": {
            "text/plain": [
              "['Grantham and Rose',\n",
              " 'The Legend of 1900',\n",
              " 'Raise the Titanic',\n",
              " 'Dustbin Baby',\n",
              " '2103: The Deadly Wake']"
            ]
          },
          "metadata": {},
          "execution_count": 21
        }
      ]
    },
    {
      "cell_type": "markdown",
      "source": [
        "**Conclusión:**\n",
        "\n",
        "En comparación con el modelo anterior, el modelo actual muestra una mejora en el orden de las recomendaciones. Sin embargo, aún existen oportunidades para mejorar la precisión y personalización de las recomendaciones.\n",
        "\n",
        "Para abordar esta limitación, se explorará la posibilidad de agregar más características resaltantes al modelo, como los actores, directores y géneros de las películas. Estas características pueden ser importantes para los usuarios al elegir películas y pueden ayudar al modelo a hacer recomendaciones más precisas y personalizadas."
      ],
      "metadata": {
        "id": "fO1UlSuZYQU2"
      }
    },
    {
      "cell_type": "markdown",
      "source": [
        "### Modelo 3\n",
        "\n",
        "Se experimentará con las columnas anteriores sumandole el atributo de ```director```"
      ],
      "metadata": {
        "id": "utkcj3hVLMkJ"
      }
    },
    {
      "cell_type": "code",
      "source": [
        "# Seleccionando sólo las columnas necesarias para el modelo\n",
        "modelo3 = df[['title', 'overview_clean', 'genres', 'director']].copy()\n",
        "# Se realiza un preprocesamiento en la columna \"genres\" para separar los géneros y convertirlos en palabras individuales\n",
        "modelo3['genres'] = modelo3['genres'].fillna('').apply(lambda x: ' '.join(x.replace(',', ' ').replace('-', '').lower().split()))\n",
        "# Se realiza un preprocesamiento en la columna \"director\" para separar los géneros y convertirlos en palabras individuales\n",
        "modelo3['director'] = modelo3['director'].fillna('').apply(lambda x: ' '.join(x.replace(',', ' ').replace('-', '').lower().split()))"
      ],
      "metadata": {
        "id": "u_apOOO45Lsh"
      },
      "execution_count": null,
      "outputs": []
    },
    {
      "cell_type": "code",
      "source": [
        "# Se crea una instancia de la clase TfidfVectorizer con los parámetros deseados\n",
        "tfidf_3 = TfidfVectorizer(stop_words=\"english\", ngram_range=(1, 2))\n",
        "# Aplicar la transformación TF-IDF al texto contenido en las columnas \"overview_clean\", \"genres\" y \"director\" del dataframe 'modelo3'\n",
        "tfidf_matriz_3 = tfidf_3.fit_transform(modelo3['overview_clean'] + ' ' + modelo3['genres'] + ' ' + modelo3['director'])"
      ],
      "metadata": {
        "id": "apBgZ-UL8WHa"
      },
      "execution_count": null,
      "outputs": []
    },
    {
      "cell_type": "code",
      "source": [
        "def get_recomendacion_m3(titulo):\n",
        "  # Se crea un objeto 'indices' que mapea los títulos de las películas a sus índices correspondientes en el DataFrame 'modelo3'\n",
        "  indices = pd.Series(modelo3.index, index=modelo3['title']).drop_duplicates()\n",
        "  # Se busca el índice de la película de entrada utilizando el objeto 'indices'\n",
        "  idx = pd.Series(indices[titulo]) if titulo in indices else None\n",
        "  # Si la película de entrada no se encuentra en el DataFrame, se devuelve un mensaje de error\n",
        "  if idx is None:\n",
        "    return \"Película no encontrada\"\n",
        "  # Si el título de la película está duplicado, se devuelve el índice de la primera aparición del título en el DataFrame\n",
        "  if modelo3.duplicated(['title']).any():\n",
        "    primer_idx = modelo3[modelo3['title'] == titulo].index[0]\n",
        "    if not idx.equals(pd.Series(primer_idx)):\n",
        "      idx = pd.Series(primer_idx)\n",
        "  # Se calcula la similitud coseno entre la película de entrada y todas las demás películas en la matriz de características\n",
        "  simil = sorted(enumerate(cosine_similarity(tfidf_matriz_3[idx], tfidf_matriz_3).flatten()), key=lambda x: x[1], reverse=True)[1:6]\n",
        "  # Se obtienen los títulos de las películas más similares utilizando el índice de cada película\n",
        "  recomendaciones = modelo3.iloc[[i[0] for i in simil], :]['title'].tolist()\n",
        "  # Se devuelve la lista de títulos de las películas recomendadas\n",
        "  return recomendaciones"
      ],
      "metadata": {
        "id": "MOYyjqAL89AY"
      },
      "execution_count": null,
      "outputs": []
    },
    {
      "cell_type": "code",
      "source": [
        "# Prueba #1\n",
        "get_recomendacion_m3('The Dark Knight Rises')"
      ],
      "metadata": {
        "colab": {
          "base_uri": "https://localhost:8080/"
        },
        "id": "rRGJtjb_gDtz",
        "outputId": "c2e94276-f103-4d3d-9b5d-a7824eefc894"
      },
      "execution_count": null,
      "outputs": [
        {
          "output_type": "execute_result",
          "data": {
            "text/plain": [
              "['The Dark Knight',\n",
              " 'Batman Forever',\n",
              " 'Batman Returns',\n",
              " 'Batman',\n",
              " 'Batman Begins']"
            ]
          },
          "metadata": {},
          "execution_count": 15
        }
      ]
    },
    {
      "cell_type": "code",
      "source": [
        "# Prueba #2\n",
        "get_recomendacion_m3('The Avengers')"
      ],
      "metadata": {
        "colab": {
          "base_uri": "https://localhost:8080/"
        },
        "id": "KWyxZCa6gHRm",
        "outputId": "d8bc66aa-f9b0-46c8-8fcd-76fa7f5ea4a9"
      },
      "execution_count": null,
      "outputs": [
        {
          "output_type": "execute_result",
          "data": {
            "text/plain": [
              "['The Work and the Glory',\n",
              " 'The Right Kind of Wrong',\n",
              " 'Benny & Joon',\n",
              " 'Diabolique',\n",
              " \"Sir Arne's Treasure\"]"
            ]
          },
          "metadata": {},
          "execution_count": 16
        }
      ]
    },
    {
      "cell_type": "code",
      "source": [
        "# Prueba #3 (Película que ha sido lanzada varias veces bajo el mismo nombre)\n",
        "get_recomendacion_m3('Wonder Woman')"
      ],
      "metadata": {
        "colab": {
          "base_uri": "https://localhost:8080/"
        },
        "id": "HB6bWFxXgS0Z",
        "outputId": "5700a312-e3b1-46a1-dc22-87a8a36a9122"
      },
      "execution_count": null,
      "outputs": [
        {
          "output_type": "execute_result",
          "data": {
            "text/plain": [
              "['DC Showcase: Catwoman',\n",
              " 'Green Lantern: First Flight',\n",
              " 'Wide Eyed and Legless',\n",
              " 'Green Lantern: Emerald Knights',\n",
              " 'Superman: Doomsday']"
            ]
          },
          "metadata": {},
          "execution_count": 17
        }
      ]
    },
    {
      "cell_type": "code",
      "source": [
        "# Prueba #4 (Película que ha sido lanzada varias veces bajo el mismo nombre)\n",
        "get_recomendacion_m3('Titanic')"
      ],
      "metadata": {
        "colab": {
          "base_uri": "https://localhost:8080/"
        },
        "id": "I9KodefbgdN0",
        "outputId": "0419a5f1-4413-45a2-b862-52bb60aec07b"
      },
      "execution_count": null,
      "outputs": [
        {
          "output_type": "execute_result",
          "data": {
            "text/plain": [
              "['Ghosts of the Abyss',\n",
              " 'Grantham and Rose',\n",
              " 'Titanic',\n",
              " 'The Legend of 1900',\n",
              " 'Deadly Voyage']"
            ]
          },
          "metadata": {},
          "execution_count": 18
        }
      ]
    },
    {
      "cell_type": "markdown",
      "source": [
        "**Conclusión:**\n",
        "\n",
        "Al agregar la variable director, los resultados comienzan a presentar mejorias especialmente en las recomendaciones para Titanic y Wonder Woman. Veamos que sucede si se agregar una variable más"
      ],
      "metadata": {
        "id": "oilVtXLzdsyN"
      }
    },
    {
      "cell_type": "markdown",
      "source": [
        "### Modelo 4\n",
        "\n",
        "Se finalizará con las columnas anteriores sumandole el atributo de ```director```"
      ],
      "metadata": {
        "id": "f6WS9t2rfCdg"
      }
    },
    {
      "cell_type": "code",
      "source": [
        "# Seleccionando sólo las columnas necesarias para el modelo\n",
        "modelo4 = df[['title', 'actors', 'overview_clean', 'genres', 'director']].copy()\n",
        "# Se realiza un preprocesamiento en la columna \"genres\" para separar los géneros y convertirlos en palabras individuales\n",
        "modelo4['genres'] = modelo4['genres'].fillna('').apply(lambda x: ' '.join(x.replace(',', ' ').replace('-', '').lower().split()))\n",
        "# Se realiza un preprocesamiento en la columna \"director\" para separar los géneros y convertirlos en palabras individuales\n",
        "modelo4['director'] = modelo4['director'].fillna('').apply(lambda x: ' '.join(x.replace(',', ' ').replace('-', '').lower().split()))\n",
        "# Se realiza un preprocesamiento en la columna \"actors\" para separar los géneros y convertirlos en palabras individuales\n",
        "modelo4['actors'] = modelo4['actors'].fillna('').apply(lambda x: ' '.join(x.replace(',', ' ').replace('-', '').lower().split()))"
      ],
      "metadata": {
        "id": "UA33zafyfL_Y"
      },
      "execution_count": null,
      "outputs": []
    },
    {
      "cell_type": "code",
      "source": [
        "# Se crea una instancia de la clase TfidfVectorizer con los parámetros deseados\n",
        "tfidf_4 = TfidfVectorizer(stop_words=\"english\", ngram_range=(1, 2))\n",
        "# Aplicar la transformación TF-IDF al texto contenido en las columnas \"overview_clean\", \"genres\", \"actors\" y \"director\" del dataframe 'modelo4'\n",
        "tfidf_matriz_4 = tfidf_4.fit_transform(modelo4['overview_clean'] + ' ' + modelo4['genres'] + ' ' + modelo4['director'] + ' ' + modelo4['actors'])"
      ],
      "metadata": {
        "id": "YnoeFTQWfcuB"
      },
      "execution_count": null,
      "outputs": []
    },
    {
      "cell_type": "code",
      "source": [
        "def get_recomendacion_m4(titulo):\n",
        "  # Se crea un objeto 'indices' que mapea los títulos de las películas a sus índices correspondientes en el DataFrame 'modelo4'\n",
        "  indices = pd.Series(modelo4.index, index=modelo4['title']).drop_duplicates()\n",
        "  # Se busca el índice de la película de entrada utilizando el objeto 'indices'\n",
        "  idx = pd.Series(indices[titulo]) if titulo in indices else None\n",
        "  # Si la película de entrada no se encuentra en el DataFrame, se devuelve un mensaje de error\n",
        "  if idx is None:\n",
        "    return \"Película no encontrada\"\n",
        "  # Si el título de la película está duplicado, se devuelve el índice de la primera aparición del título en el DataFrame\n",
        "  if modelo4.duplicated(['title']).any():\n",
        "    primer_idx = modelo4[modelo4['title'] == titulo].index[0]\n",
        "    if not idx.equals(pd.Series(primer_idx)):\n",
        "      idx = pd.Series(primer_idx)\n",
        "  # Se calcula la similitud coseno entre la película de entrada y todas las demás películas en la matriz de características\n",
        "  simil = sorted(enumerate(cosine_similarity(tfidf_matriz_4[idx], tfidf_matriz_4).flatten()), key=lambda x: x[1], reverse=True)[1:6]\n",
        "  # Se obtienen los títulos de las películas más similares utilizando el índice de cada película\n",
        "  recomendaciones = modelo4.iloc[[i[0] for i in simil], :]['title'].tolist()\n",
        "  # Se devuelve la lista de títulos de las películas recomendadas\n",
        "  return recomendaciones"
      ],
      "metadata": {
        "id": "6cP8Pf6ff7HJ"
      },
      "execution_count": null,
      "outputs": []
    },
    {
      "cell_type": "code",
      "source": [
        "# Prueba #1\n",
        "get_recomendacion_m4('The Dark Knight Rises')"
      ],
      "metadata": {
        "colab": {
          "base_uri": "https://localhost:8080/"
        },
        "id": "KVTpekS8gq6P",
        "outputId": "7fcf7c4b-aa53-4dc3-92b3-0eac2a85af19"
      },
      "execution_count": null,
      "outputs": [
        {
          "output_type": "execute_result",
          "data": {
            "text/plain": [
              "['The Dark Knight',\n",
              " 'Batman Begins',\n",
              " 'Interstellar',\n",
              " 'The Wolf of Wall Street',\n",
              " 'Inception']"
            ]
          },
          "metadata": {},
          "execution_count": 22
        }
      ]
    },
    {
      "cell_type": "code",
      "source": [
        "# Prueba #2\n",
        "get_recomendacion_m4('The Avengers')"
      ],
      "metadata": {
        "colab": {
          "base_uri": "https://localhost:8080/"
        },
        "id": "RMSFDwbTgvBI",
        "outputId": "e1484860-03f6-49e9-84c4-a6382afa3558"
      },
      "execution_count": null,
      "outputs": [
        {
          "output_type": "execute_result",
          "data": {
            "text/plain": [
              "['The Work and the Glory',\n",
              " 'Hysterical Blindness',\n",
              " 'Eddie Izzard: Unrepeatable',\n",
              " 'Eddie Izzard: Circle',\n",
              " 'The Frightened City']"
            ]
          },
          "metadata": {},
          "execution_count": 23
        }
      ]
    },
    {
      "cell_type": "code",
      "source": [
        "# Prueba #3 (Película que ha sido lanzada varias veces bajo el mismo nombre)\n",
        "get_recomendacion_m4('Wonder Woman')"
      ],
      "metadata": {
        "colab": {
          "base_uri": "https://localhost:8080/"
        },
        "id": "so-QxAqkgykK",
        "outputId": "1b42f048-d1e1-4609-e6cb-a44b52b4628f"
      },
      "execution_count": null,
      "outputs": [
        {
          "output_type": "execute_result",
          "data": {
            "text/plain": [
              "['DC Showcase: Catwoman',\n",
              " 'Superman/Batman: Apocalypse',\n",
              " 'Green Lantern: Emerald Knights',\n",
              " 'Green Lantern: First Flight',\n",
              " 'Superman: Doomsday']"
            ]
          },
          "metadata": {},
          "execution_count": 24
        }
      ]
    },
    {
      "cell_type": "code",
      "source": [
        "# Prueba #4 (Película que ha sido lanzada varias veces bajo el mismo nombre)\n",
        "get_recomendacion_m4('Titanic')"
      ],
      "metadata": {
        "colab": {
          "base_uri": "https://localhost:8080/"
        },
        "id": "Yuav6Cgfg0iV",
        "outputId": "7487aa5c-0c15-4407-d58d-9df8e4c87ebc"
      },
      "execution_count": null,
      "outputs": [
        {
          "output_type": "execute_result",
          "data": {
            "text/plain": [
              "['Aliens of the Deep',\n",
              " 'Titanic: The Final Word with James Cameron',\n",
              " 'Ghosts of the Abyss',\n",
              " 'The Bounty',\n",
              " 'The Departed']"
            ]
          },
          "metadata": {},
          "execution_count": 25
        }
      ]
    },
    {
      "cell_type": "markdown",
      "source": [
        "**Conclusión:**\n",
        "\n",
        "La inclusión del atributo \"actores\" ha tenido un impacto significativo en la calidad de las recomendaciones de películas. Ahora se están generando recomendaciones más personalizadas que toman en cuenta la aparición de los actores y directores en las películas, además de la descripción y el género. Por ejemplo, en el caso de The Dark Knight Rises, el modelo ya no sólo recomienda películas relacionadas con Batman, sino que también sugiere otros tipos de películas con similitudes.\n",
        "\n",
        "Aunque esto puede considerarse una mejora con respecto a los modelos anteriores, aún hay limitaciones en la capacidad del modelo debido a la falta de información sobre el usuario y su historial de películas consumidas. Esto significa que las recomendaciones aún pueden no ser totalmente personalizadas y precisas para cada usuario."
      ],
      "metadata": {
        "id": "YEXRagwVhTLI"
      }
    },
    {
      "cell_type": "markdown",
      "source": [
        "## **Modelo de Recomendación de Películas basado en Calificaciones Ponderadas**"
      ],
      "metadata": {
        "id": "Y4UvrM7GD3Ir"
      }
    },
    {
      "cell_type": "markdown",
      "source": [
        "Para este modelo se considerará el uso de la calificación ponderada de IMDB (también conocida como \"Weighted Rating\" o \"wr\") es un método para calcular la calificación de una película que tiene en cuenta tanto la calificación promedio de la película como el número de votos que ha recibido. La fórmula para calcular la calificación ponderada de IMDB es la siguiente:\n",
        "\n",
        "![wr](https://1.bp.blogspot.com/-IwW-xX59Hi4/YF7TyvzmM7I/AAAAAAAAdkg/34Mpp3aW5LAsy561icqkdDEsq_O2ZgI9gCLcBGAsYHQ/s762/weight-avg.png)\n",
        "\n",
        "donde:\n",
        "\n",
        "- R es la calificación promedio de la película (con una escala de 0 a 10).\n",
        "- v es el número de votos que ha recibido la película.\n",
        "- m es el número mínimo de votos requerido para que una película sea considerada en el cálculo (generalmente se fija en 25).\n",
        "- C es la calificación promedio de todas las películas en la base de datos de IMDB."
      ],
      "metadata": {
        "id": "PlrcB9KGEwUU"
      }
    },
    {
      "cell_type": "code",
      "source": [
        "# Seleccionando sólo las columnas necesarias para el modelo\n",
        "modelo5 = df[['genres', 'title', 'vote_count', 'vote_average', 'director']].copy()"
      ],
      "metadata": {
        "id": "FSsJ4RoYVVxe"
      },
      "execution_count": null,
      "outputs": []
    },
    {
      "cell_type": "code",
      "source": [
        "# Procesar los datos\n",
        "modelo5['genres'] = modelo5['genres'].fillna('')\n",
        "modelo5['genres'] = modelo5['genres'].str.split(',')\n",
        "genres = pd.Series([genre for genres in modelo5['genres'] for genre in genres]).unique()\n",
        "for genre in genres:\n",
        "  modelo5[genre] = modelo5['genres'].apply(lambda x: 1 if genre in x else 0)\n",
        "# Agregar una nueva columna con los nombres de los directores\n",
        "modelo5['directores'] = modelo5['director'].apply(lambda x: x.split(', ') if isinstance(x, str) else [])"
      ],
      "metadata": {
        "id": "EjGNUgqWUzuF"
      },
      "execution_count": null,
      "outputs": []
    },
    {
      "cell_type": "code",
      "source": [
        "# Calificación promedio de la película\n",
        "v = modelo5['vote_count']\n",
        "# Número de votos que ha recibido la película\n",
        "R = modelo5['vote_average']\n",
        "# Número mínimo de votos requerido\n",
        "m = 25\n",
        "# Calcular la calificación promedio de todas las películas\n",
        "C = modelo5['vote_average'].mean()\n",
        "# Calcular la calificación ponderada de las películas y agregarla como una nueva columna\n",
        "modelo5['calificacion_ponderada'] = ((v / (v + m)) * R) + ((m / (v + m)) * C)"
      ],
      "metadata": {
        "id": "DAm32CRBW0G9"
      },
      "execution_count": null,
      "outputs": []
    },
    {
      "cell_type": "code",
      "source": [
        "# Imprimir las primeras 5 filas de \"credits_csv\"\n",
        "modelo5.head()"
      ],
      "metadata": {
        "colab": {
          "base_uri": "https://localhost:8080/",
          "height": 455
        },
        "id": "rtIxEiCNQAP6",
        "outputId": "8303596c-9bd2-42f3-fa71-0596115aa20a"
      },
      "execution_count": null,
      "outputs": [
        {
          "output_type": "execute_result",
          "data": {
            "text/plain": [
              "                         genres                        title  vote_count  \\\n",
              "0   [animation, comedy, family]                    Toy Story      5415.0   \n",
              "1  [adventure, fantasy, family]                      Jumanji      2413.0   \n",
              "2             [romance, comedy]             Grumpier Old Men        92.0   \n",
              "3      [comedy, drama, romance]            Waiting to Exhale        34.0   \n",
              "4                      [comedy]  Father of the Bride Part II       173.0   \n",
              "\n",
              "   vote_average         director  animation  comedy  family  adventure  \\\n",
              "0           7.7    John Lasseter          1       1       1          0   \n",
              "1           6.9     Joe Johnston          0       0       1          1   \n",
              "2           6.5    Howard Deutch          0       1       0          0   \n",
              "3           6.1  Forest Whitaker          0       1       0          0   \n",
              "4           5.7    Charles Shyer          0       1       0          0   \n",
              "\n",
              "   fantasy  ...  mystery  war  foreign  music  documentary  western  tvmovie  \\\n",
              "0        0  ...        0    0        0      0            0        0        0   \n",
              "1        1  ...        0    0        0      0            0        0        0   \n",
              "2        0  ...        0    0        0      0            0        0        0   \n",
              "3        0  ...        0    0        0      0            0        0        0   \n",
              "4        0  ...        0    0        0      0            0        0        0   \n",
              "\n",
              "             directores  calificacion_ponderada  \n",
              "0  0    [John Lasseter]                7.690460  \n",
              "1  0     [Joe Johnston]                6.886918  \n",
              "2  0    [Howard Deutch]                6.312862  \n",
              "3  0  [Forest Whitaker]                5.898388  \n",
              "4  0    [Charles Shyer]                5.690429  \n",
              "\n",
              "[5 rows x 28 columns]"
            ],
            "text/html": [
              "\n",
              "  <div id=\"df-1796c194-e671-4113-9660-e24d4b63aad8\">\n",
              "    <div class=\"colab-df-container\">\n",
              "      <div>\n",
              "<style scoped>\n",
              "    .dataframe tbody tr th:only-of-type {\n",
              "        vertical-align: middle;\n",
              "    }\n",
              "\n",
              "    .dataframe tbody tr th {\n",
              "        vertical-align: top;\n",
              "    }\n",
              "\n",
              "    .dataframe thead th {\n",
              "        text-align: right;\n",
              "    }\n",
              "</style>\n",
              "<table border=\"1\" class=\"dataframe\">\n",
              "  <thead>\n",
              "    <tr style=\"text-align: right;\">\n",
              "      <th></th>\n",
              "      <th>genres</th>\n",
              "      <th>title</th>\n",
              "      <th>vote_count</th>\n",
              "      <th>vote_average</th>\n",
              "      <th>director</th>\n",
              "      <th>animation</th>\n",
              "      <th>comedy</th>\n",
              "      <th>family</th>\n",
              "      <th>adventure</th>\n",
              "      <th>fantasy</th>\n",
              "      <th>...</th>\n",
              "      <th>mystery</th>\n",
              "      <th>war</th>\n",
              "      <th>foreign</th>\n",
              "      <th>music</th>\n",
              "      <th>documentary</th>\n",
              "      <th>western</th>\n",
              "      <th>tvmovie</th>\n",
              "      <th></th>\n",
              "      <th>directores</th>\n",
              "      <th>calificacion_ponderada</th>\n",
              "    </tr>\n",
              "  </thead>\n",
              "  <tbody>\n",
              "    <tr>\n",
              "      <th>0</th>\n",
              "      <td>[animation, comedy, family]</td>\n",
              "      <td>Toy Story</td>\n",
              "      <td>5415.0</td>\n",
              "      <td>7.7</td>\n",
              "      <td>John Lasseter</td>\n",
              "      <td>1</td>\n",
              "      <td>1</td>\n",
              "      <td>1</td>\n",
              "      <td>0</td>\n",
              "      <td>0</td>\n",
              "      <td>...</td>\n",
              "      <td>0</td>\n",
              "      <td>0</td>\n",
              "      <td>0</td>\n",
              "      <td>0</td>\n",
              "      <td>0</td>\n",
              "      <td>0</td>\n",
              "      <td>0</td>\n",
              "      <td>0</td>\n",
              "      <td>[John Lasseter]</td>\n",
              "      <td>7.690460</td>\n",
              "    </tr>\n",
              "    <tr>\n",
              "      <th>1</th>\n",
              "      <td>[adventure, fantasy, family]</td>\n",
              "      <td>Jumanji</td>\n",
              "      <td>2413.0</td>\n",
              "      <td>6.9</td>\n",
              "      <td>Joe Johnston</td>\n",
              "      <td>0</td>\n",
              "      <td>0</td>\n",
              "      <td>1</td>\n",
              "      <td>1</td>\n",
              "      <td>1</td>\n",
              "      <td>...</td>\n",
              "      <td>0</td>\n",
              "      <td>0</td>\n",
              "      <td>0</td>\n",
              "      <td>0</td>\n",
              "      <td>0</td>\n",
              "      <td>0</td>\n",
              "      <td>0</td>\n",
              "      <td>0</td>\n",
              "      <td>[Joe Johnston]</td>\n",
              "      <td>6.886918</td>\n",
              "    </tr>\n",
              "    <tr>\n",
              "      <th>2</th>\n",
              "      <td>[romance, comedy]</td>\n",
              "      <td>Grumpier Old Men</td>\n",
              "      <td>92.0</td>\n",
              "      <td>6.5</td>\n",
              "      <td>Howard Deutch</td>\n",
              "      <td>0</td>\n",
              "      <td>1</td>\n",
              "      <td>0</td>\n",
              "      <td>0</td>\n",
              "      <td>0</td>\n",
              "      <td>...</td>\n",
              "      <td>0</td>\n",
              "      <td>0</td>\n",
              "      <td>0</td>\n",
              "      <td>0</td>\n",
              "      <td>0</td>\n",
              "      <td>0</td>\n",
              "      <td>0</td>\n",
              "      <td>0</td>\n",
              "      <td>[Howard Deutch]</td>\n",
              "      <td>6.312862</td>\n",
              "    </tr>\n",
              "    <tr>\n",
              "      <th>3</th>\n",
              "      <td>[comedy, drama, romance]</td>\n",
              "      <td>Waiting to Exhale</td>\n",
              "      <td>34.0</td>\n",
              "      <td>6.1</td>\n",
              "      <td>Forest Whitaker</td>\n",
              "      <td>0</td>\n",
              "      <td>1</td>\n",
              "      <td>0</td>\n",
              "      <td>0</td>\n",
              "      <td>0</td>\n",
              "      <td>...</td>\n",
              "      <td>0</td>\n",
              "      <td>0</td>\n",
              "      <td>0</td>\n",
              "      <td>0</td>\n",
              "      <td>0</td>\n",
              "      <td>0</td>\n",
              "      <td>0</td>\n",
              "      <td>0</td>\n",
              "      <td>[Forest Whitaker]</td>\n",
              "      <td>5.898388</td>\n",
              "    </tr>\n",
              "    <tr>\n",
              "      <th>4</th>\n",
              "      <td>[comedy]</td>\n",
              "      <td>Father of the Bride Part II</td>\n",
              "      <td>173.0</td>\n",
              "      <td>5.7</td>\n",
              "      <td>Charles Shyer</td>\n",
              "      <td>0</td>\n",
              "      <td>1</td>\n",
              "      <td>0</td>\n",
              "      <td>0</td>\n",
              "      <td>0</td>\n",
              "      <td>...</td>\n",
              "      <td>0</td>\n",
              "      <td>0</td>\n",
              "      <td>0</td>\n",
              "      <td>0</td>\n",
              "      <td>0</td>\n",
              "      <td>0</td>\n",
              "      <td>0</td>\n",
              "      <td>0</td>\n",
              "      <td>[Charles Shyer]</td>\n",
              "      <td>5.690429</td>\n",
              "    </tr>\n",
              "  </tbody>\n",
              "</table>\n",
              "<p>5 rows × 28 columns</p>\n",
              "</div>\n",
              "      <button class=\"colab-df-convert\" onclick=\"convertToInteractive('df-1796c194-e671-4113-9660-e24d4b63aad8')\"\n",
              "              title=\"Convert this dataframe to an interactive table.\"\n",
              "              style=\"display:none;\">\n",
              "        \n",
              "  <svg xmlns=\"http://www.w3.org/2000/svg\" height=\"24px\"viewBox=\"0 0 24 24\"\n",
              "       width=\"24px\">\n",
              "    <path d=\"M0 0h24v24H0V0z\" fill=\"none\"/>\n",
              "    <path d=\"M18.56 5.44l.94 2.06.94-2.06 2.06-.94-2.06-.94-.94-2.06-.94 2.06-2.06.94zm-11 1L8.5 8.5l.94-2.06 2.06-.94-2.06-.94L8.5 2.5l-.94 2.06-2.06.94zm10 10l.94 2.06.94-2.06 2.06-.94-2.06-.94-.94-2.06-.94 2.06-2.06.94z\"/><path d=\"M17.41 7.96l-1.37-1.37c-.4-.4-.92-.59-1.43-.59-.52 0-1.04.2-1.43.59L10.3 9.45l-7.72 7.72c-.78.78-.78 2.05 0 2.83L4 21.41c.39.39.9.59 1.41.59.51 0 1.02-.2 1.41-.59l7.78-7.78 2.81-2.81c.8-.78.8-2.07 0-2.86zM5.41 20L4 18.59l7.72-7.72 1.47 1.35L5.41 20z\"/>\n",
              "  </svg>\n",
              "      </button>\n",
              "      \n",
              "  <style>\n",
              "    .colab-df-container {\n",
              "      display:flex;\n",
              "      flex-wrap:wrap;\n",
              "      gap: 12px;\n",
              "    }\n",
              "\n",
              "    .colab-df-convert {\n",
              "      background-color: #E8F0FE;\n",
              "      border: none;\n",
              "      border-radius: 50%;\n",
              "      cursor: pointer;\n",
              "      display: none;\n",
              "      fill: #1967D2;\n",
              "      height: 32px;\n",
              "      padding: 0 0 0 0;\n",
              "      width: 32px;\n",
              "    }\n",
              "\n",
              "    .colab-df-convert:hover {\n",
              "      background-color: #E2EBFA;\n",
              "      box-shadow: 0px 1px 2px rgba(60, 64, 67, 0.3), 0px 1px 3px 1px rgba(60, 64, 67, 0.15);\n",
              "      fill: #174EA6;\n",
              "    }\n",
              "\n",
              "    [theme=dark] .colab-df-convert {\n",
              "      background-color: #3B4455;\n",
              "      fill: #D2E3FC;\n",
              "    }\n",
              "\n",
              "    [theme=dark] .colab-df-convert:hover {\n",
              "      background-color: #434B5C;\n",
              "      box-shadow: 0px 1px 3px 1px rgba(0, 0, 0, 0.15);\n",
              "      filter: drop-shadow(0px 1px 2px rgba(0, 0, 0, 0.3));\n",
              "      fill: #FFFFFF;\n",
              "    }\n",
              "  </style>\n",
              "\n",
              "      <script>\n",
              "        const buttonEl =\n",
              "          document.querySelector('#df-1796c194-e671-4113-9660-e24d4b63aad8 button.colab-df-convert');\n",
              "        buttonEl.style.display =\n",
              "          google.colab.kernel.accessAllowed ? 'block' : 'none';\n",
              "\n",
              "        async function convertToInteractive(key) {\n",
              "          const element = document.querySelector('#df-1796c194-e671-4113-9660-e24d4b63aad8');\n",
              "          const dataTable =\n",
              "            await google.colab.kernel.invokeFunction('convertToInteractive',\n",
              "                                                     [key], {});\n",
              "          if (!dataTable) return;\n",
              "\n",
              "          const docLinkHtml = 'Like what you see? Visit the ' +\n",
              "            '<a target=\"_blank\" href=https://colab.research.google.com/notebooks/data_table.ipynb>data table notebook</a>'\n",
              "            + ' to learn more about interactive tables.';\n",
              "          element.innerHTML = '';\n",
              "          dataTable['output_type'] = 'display_data';\n",
              "          await google.colab.output.renderOutput(dataTable, element);\n",
              "          const docLink = document.createElement('div');\n",
              "          docLink.innerHTML = docLinkHtml;\n",
              "          element.appendChild(docLink);\n",
              "        }\n",
              "      </script>\n",
              "    </div>\n",
              "  </div>\n",
              "  "
            ]
          },
          "metadata": {},
          "execution_count": 29
        }
      ]
    },
    {
      "cell_type": "code",
      "source": [
        "# Función para recomendar películas\n",
        "def get_recomendacion_m5(titulo):\n",
        "  # Obtener la fila correspondiente al título de la película que se está recomendando\n",
        "  pelicula = modelo5.loc[modelo5['title'] == titulo].iloc[0]\n",
        "  # Calcular la similitud entre las películas\n",
        "  modelo5['similitud'] = modelo5.apply(lambda x: (x[genres] * pelicula[genres]).sum() / (x[genres].sum() + pelicula[genres].sum()), axis=1)\n",
        "  # Ordenar las películas por similitud y obtener las 5 mejores recomendaciones\n",
        "  recomendaciones = modelo5.sort_values('similitud', ascending=False).head(6)[1:]\n",
        "  # Calcular el peso adicional para las películas con una calificación ponderada alta y agregarlo a las recomendaciones\n",
        "  recomendaciones['peso_calificacion'] = recomendaciones['calificacion_ponderada'].apply(lambda x: 1 if x >= pelicula['calificacion_ponderada'] else 0)\n",
        "  # Calcular el peso adicional para las películas con el mismo director que la película que se está recomendando y agregarlo a las recomendaciones\n",
        "  recomendaciones['peso_director'] = recomendaciones.apply(lambda x: len(set(x['directores']).intersection(set(pelicula['directores']))) / len(set(x['directores']).union(set(pelicula['directores']))), axis=1)\n",
        "  # Calcular la puntuación total para cada recomendación y obtener las 5 mejores recomendaciones\n",
        "  recomendaciones['peso_total'] = recomendaciones['similitud'] + (recomendaciones['peso_calificacion'] * 0.2) + (recomendaciones['peso_director'] * 0.2)\n",
        "  recomendaciones = recomendaciones.sort_values('peso_total', ascending=False).head(5)\n",
        "\n",
        "  return recomendaciones['title'].tolist()"
      ],
      "metadata": {
        "id": "hVsGnr5Sh2Ll"
      },
      "execution_count": null,
      "outputs": []
    },
    {
      "cell_type": "code",
      "source": [
        "# Prueba #2\n",
        "get_recomendacion_m5('The Dark Knight Rises')"
      ],
      "metadata": {
        "colab": {
          "base_uri": "https://localhost:8080/"
        },
        "id": "b_govwZLiCUp",
        "outputId": "26308e73-84e2-47b9-8024-a5c89cf724a4"
      },
      "execution_count": null,
      "outputs": [
        {
          "output_type": "execute_result",
          "data": {
            "text/plain": [
              "['Death Wish', 'Pusher', 'After The Storm', 'Sin Nombre', 'The Asphalt Jungle']"
            ]
          },
          "metadata": {},
          "execution_count": 31
        }
      ]
    },
    {
      "cell_type": "code",
      "source": [
        "# Prueba #2\n",
        "get_recomendacion_m5('The Avengers')"
      ],
      "metadata": {
        "colab": {
          "base_uri": "https://localhost:8080/"
        },
        "id": "9r1a1aJFj68R",
        "outputId": "6a404c90-3397-4edb-872e-5657a77000c7"
      },
      "execution_count": null,
      "outputs": [
        {
          "output_type": "execute_result",
          "data": {
            "text/plain": [
              "['Three Strangers',\n",
              " \"Twilight's Last Gleaming\",\n",
              " \"Don't Say a Word\",\n",
              " 'Survivor',\n",
              " 'Dangerous Company']"
            ]
          },
          "metadata": {},
          "execution_count": 32
        }
      ]
    },
    {
      "cell_type": "code",
      "source": [
        "# Prueba #3 (Película que ha sido lanzada varias veces bajo el mismo nombre)\n",
        "get_recomendacion_m5('Wonder Woman')"
      ],
      "metadata": {
        "colab": {
          "base_uri": "https://localhost:8080/"
        },
        "id": "jdj2ofXjPNyG",
        "outputId": "88ba979e-b788-415e-d6b7-18cb38d9e660"
      },
      "execution_count": null,
      "outputs": [
        {
          "output_type": "execute_result",
          "data": {
            "text/plain": [
              "['Wonder Woman',\n",
              " 'DC Showcase: Catwoman',\n",
              " 'Justice League: Throne of Atlantis',\n",
              " 'Macross Plus: Movie Edition',\n",
              " 'Green Lantern: Emerald Knights']"
            ]
          },
          "metadata": {},
          "execution_count": 33
        }
      ]
    },
    {
      "cell_type": "code",
      "source": [
        "# Prueba #4 (Película que ha sido lanzada varias veces bajo el mismo nombre)\n",
        "get_recomendacion_m5('Titanic')"
      ],
      "metadata": {
        "colab": {
          "base_uri": "https://localhost:8080/"
        },
        "id": "O1Woaa07PvxG",
        "outputId": "530e2c21-400d-4679-a73b-61e26a54de5f"
      },
      "execution_count": null,
      "outputs": [
        {
          "output_type": "execute_result",
          "data": {
            "text/plain": [
              "['Él',\n",
              " 'The Bridesmaid',\n",
              " 'Year of the Jellyfish',\n",
              " 'Live Flesh',\n",
              " 'Cruel Intentions 2']"
            ]
          },
          "metadata": {},
          "execution_count": 34
        }
      ]
    },
    {
      "cell_type": "markdown",
      "source": [
        "Un inconveniente con este modelo es que las recomendaciones no son tan efectivas y el tiempo de respuesta supera el minuto y medio con un gasto aproximado de un 1 GB de RAM por consulta lo que supera el límite que ofrece Render para su servicio gratuito."
      ],
      "metadata": {
        "id": "cPSoJo4Wx6H9"
      }
    },
    {
      "cell_type": "markdown",
      "source": [
        "## **Recomendaciones finales**"
      ],
      "metadata": {
        "id": "4Ls5dkEInlCa"
      }
    },
    {
      "cell_type": "markdown",
      "source": [
        "Aquí te presento algunas recomendaciones para mejorar los modelos presentados en este notebook, que por limitaciones en cuanto al consumo de la RAM no pudieron ser empleados considerando el total de la data.\n",
        "\n",
        "- **Optimizar los parámetros de TfidfVectorizer**: El modelo utiliza la clase TfidfVectorizer para convertir los textos de los resúmenes en una matriz de características TF-IDF. Se podría experimentar con diferentes valores de los parámetros, como el conjunto de stop words, el rango de n-gramas y los valores de min_df y max_df para encontrar los valores óptimos para el modelo.\n",
        "\n",
        "- **Considerar el uso de técnicas de reducción de dimensionalidad**: La matriz de características generada por TfidfVectorizer podría tener una alta dimensionalidad, lo que podría afectar negativamente el rendimiento del modelo y aumentar el tiempo de procesamiento. Se podría considerar el uso de técnicas de reducción de dimensionalidad, como PCA o t-SNE, para reducir la dimensionalidad de la matriz de características antes de aplicar el modelo.\n",
        "\n",
        "- **Evaluar el rendimiento del modelo**: Es importante evaluar el rendimiento del modelo para determinar su capacidad para proporcionar recomendaciones precisas y útiles. Se pueden utilizar técnicas de validación cruzada o de clustering para evaluar la calidad de la agrupación generada por el modelo"
      ],
      "metadata": {
        "id": "DV9MP5kmNQw6"
      }
    },
    {
      "cell_type": "markdown",
      "source": [
        "## **Modelo empleado en el proyecto**"
      ],
      "metadata": {
        "id": "tgVmrDQyNJAb"
      }
    },
    {
      "cell_type": "markdown",
      "source": [
        "Es importante tener en cuenta que, debido a las limitaciones de la capacidad de la memoria RAM, el código de los modelos presentados en este notebook podría mejorarse en el futuro. Actualmente, estos son los mejores resultados que podemos mostrar.\n",
        "\n",
        "La elección del modelo final para este proyecto se basó en su capacidad para adaptarse a las limitaciones de consumo de recursos. Por lo tanto, el modelo seleccionado fue el Modelo1 debido a su menor costo computacional, a pesar de que su precisión es menor que la de otros modelos presentados en este notebook"
      ],
      "metadata": {
        "id": "BUk9rZFJv5X7"
      }
    },
    {
      "cell_type": "code",
      "source": [
        "# Imprimir las primeras 5 filas del Dataframe \"merged\"\n",
        "df[['title', 'overview']].head()"
      ],
      "metadata": {
        "colab": {
          "base_uri": "https://localhost:8080/",
          "height": 206
        },
        "id": "pW8FvLWrw2YP",
        "outputId": "87671560-99a1-4757-b322-40226fbf0be5"
      },
      "execution_count": null,
      "outputs": [
        {
          "output_type": "execute_result",
          "data": {
            "text/plain": [
              "                         title  \\\n",
              "0                    Toy Story   \n",
              "1                      Jumanji   \n",
              "2             Grumpier Old Men   \n",
              "3            Waiting to Exhale   \n",
              "4  Father of the Bride Part II   \n",
              "\n",
              "                                            overview  \n",
              "0  led by woody andys toys live happily in his ro...  \n",
              "1  when siblings judy and peter discover an encha...  \n",
              "2  a family wedding reignites the ancient feud be...  \n",
              "3  cheated on mistreated and stepped on the women...  \n",
              "4  just when george banks has recovered from his ...  "
            ],
            "text/html": [
              "\n",
              "  <div id=\"df-571b7c58-a162-4e0a-bcf1-35d3ce3e0e6d\">\n",
              "    <div class=\"colab-df-container\">\n",
              "      <div>\n",
              "<style scoped>\n",
              "    .dataframe tbody tr th:only-of-type {\n",
              "        vertical-align: middle;\n",
              "    }\n",
              "\n",
              "    .dataframe tbody tr th {\n",
              "        vertical-align: top;\n",
              "    }\n",
              "\n",
              "    .dataframe thead th {\n",
              "        text-align: right;\n",
              "    }\n",
              "</style>\n",
              "<table border=\"1\" class=\"dataframe\">\n",
              "  <thead>\n",
              "    <tr style=\"text-align: right;\">\n",
              "      <th></th>\n",
              "      <th>title</th>\n",
              "      <th>overview</th>\n",
              "    </tr>\n",
              "  </thead>\n",
              "  <tbody>\n",
              "    <tr>\n",
              "      <th>0</th>\n",
              "      <td>Toy Story</td>\n",
              "      <td>led by woody andys toys live happily in his ro...</td>\n",
              "    </tr>\n",
              "    <tr>\n",
              "      <th>1</th>\n",
              "      <td>Jumanji</td>\n",
              "      <td>when siblings judy and peter discover an encha...</td>\n",
              "    </tr>\n",
              "    <tr>\n",
              "      <th>2</th>\n",
              "      <td>Grumpier Old Men</td>\n",
              "      <td>a family wedding reignites the ancient feud be...</td>\n",
              "    </tr>\n",
              "    <tr>\n",
              "      <th>3</th>\n",
              "      <td>Waiting to Exhale</td>\n",
              "      <td>cheated on mistreated and stepped on the women...</td>\n",
              "    </tr>\n",
              "    <tr>\n",
              "      <th>4</th>\n",
              "      <td>Father of the Bride Part II</td>\n",
              "      <td>just when george banks has recovered from his ...</td>\n",
              "    </tr>\n",
              "  </tbody>\n",
              "</table>\n",
              "</div>\n",
              "      <button class=\"colab-df-convert\" onclick=\"convertToInteractive('df-571b7c58-a162-4e0a-bcf1-35d3ce3e0e6d')\"\n",
              "              title=\"Convert this dataframe to an interactive table.\"\n",
              "              style=\"display:none;\">\n",
              "        \n",
              "  <svg xmlns=\"http://www.w3.org/2000/svg\" height=\"24px\"viewBox=\"0 0 24 24\"\n",
              "       width=\"24px\">\n",
              "    <path d=\"M0 0h24v24H0V0z\" fill=\"none\"/>\n",
              "    <path d=\"M18.56 5.44l.94 2.06.94-2.06 2.06-.94-2.06-.94-.94-2.06-.94 2.06-2.06.94zm-11 1L8.5 8.5l.94-2.06 2.06-.94-2.06-.94L8.5 2.5l-.94 2.06-2.06.94zm10 10l.94 2.06.94-2.06 2.06-.94-2.06-.94-.94-2.06-.94 2.06-2.06.94z\"/><path d=\"M17.41 7.96l-1.37-1.37c-.4-.4-.92-.59-1.43-.59-.52 0-1.04.2-1.43.59L10.3 9.45l-7.72 7.72c-.78.78-.78 2.05 0 2.83L4 21.41c.39.39.9.59 1.41.59.51 0 1.02-.2 1.41-.59l7.78-7.78 2.81-2.81c.8-.78.8-2.07 0-2.86zM5.41 20L4 18.59l7.72-7.72 1.47 1.35L5.41 20z\"/>\n",
              "  </svg>\n",
              "      </button>\n",
              "      \n",
              "  <style>\n",
              "    .colab-df-container {\n",
              "      display:flex;\n",
              "      flex-wrap:wrap;\n",
              "      gap: 12px;\n",
              "    }\n",
              "\n",
              "    .colab-df-convert {\n",
              "      background-color: #E8F0FE;\n",
              "      border: none;\n",
              "      border-radius: 50%;\n",
              "      cursor: pointer;\n",
              "      display: none;\n",
              "      fill: #1967D2;\n",
              "      height: 32px;\n",
              "      padding: 0 0 0 0;\n",
              "      width: 32px;\n",
              "    }\n",
              "\n",
              "    .colab-df-convert:hover {\n",
              "      background-color: #E2EBFA;\n",
              "      box-shadow: 0px 1px 2px rgba(60, 64, 67, 0.3), 0px 1px 3px 1px rgba(60, 64, 67, 0.15);\n",
              "      fill: #174EA6;\n",
              "    }\n",
              "\n",
              "    [theme=dark] .colab-df-convert {\n",
              "      background-color: #3B4455;\n",
              "      fill: #D2E3FC;\n",
              "    }\n",
              "\n",
              "    [theme=dark] .colab-df-convert:hover {\n",
              "      background-color: #434B5C;\n",
              "      box-shadow: 0px 1px 3px 1px rgba(0, 0, 0, 0.15);\n",
              "      filter: drop-shadow(0px 1px 2px rgba(0, 0, 0, 0.3));\n",
              "      fill: #FFFFFF;\n",
              "    }\n",
              "  </style>\n",
              "\n",
              "      <script>\n",
              "        const buttonEl =\n",
              "          document.querySelector('#df-571b7c58-a162-4e0a-bcf1-35d3ce3e0e6d button.colab-df-convert');\n",
              "        buttonEl.style.display =\n",
              "          google.colab.kernel.accessAllowed ? 'block' : 'none';\n",
              "\n",
              "        async function convertToInteractive(key) {\n",
              "          const element = document.querySelector('#df-571b7c58-a162-4e0a-bcf1-35d3ce3e0e6d');\n",
              "          const dataTable =\n",
              "            await google.colab.kernel.invokeFunction('convertToInteractive',\n",
              "                                                     [key], {});\n",
              "          if (!dataTable) return;\n",
              "\n",
              "          const docLinkHtml = 'Like what you see? Visit the ' +\n",
              "            '<a target=\"_blank\" href=https://colab.research.google.com/notebooks/data_table.ipynb>data table notebook</a>'\n",
              "            + ' to learn more about interactive tables.';\n",
              "          element.innerHTML = '';\n",
              "          dataTable['output_type'] = 'display_data';\n",
              "          await google.colab.output.renderOutput(dataTable, element);\n",
              "          const docLink = document.createElement('div');\n",
              "          docLink.innerHTML = docLinkHtml;\n",
              "          element.appendChild(docLink);\n",
              "        }\n",
              "      </script>\n",
              "    </div>\n",
              "  </div>\n",
              "  "
            ]
          },
          "metadata": {},
          "execution_count": 38
        }
      ]
    },
    {
      "cell_type": "code",
      "source": [
        "# Imprimir las primeras 5 filas del Dataframe \"merged\"\n",
        "df[['title', 'overview_clean']].head()"
      ],
      "metadata": {
        "colab": {
          "base_uri": "https://localhost:8080/",
          "height": 206
        },
        "id": "3JbFjYOxG-Nb",
        "outputId": "5622310b-71b0-4a73-d2b4-6f9215c364ee"
      },
      "execution_count": null,
      "outputs": [
        {
          "output_type": "execute_result",
          "data": {
            "text/plain": [
              "                         title  \\\n",
              "0                    Toy Story   \n",
              "1                      Jumanji   \n",
              "2             Grumpier Old Men   \n",
              "3            Waiting to Exhale   \n",
              "4  Father of the Bride Part II   \n",
              "\n",
              "                                      overview_clean  \n",
              "0  led by woody andys toy live happily in his roo...  \n",
              "1  when sibling judy and peter discover an enchan...  \n",
              "2  a family wedding reignites the ancient feud be...  \n",
              "3  cheated on mistreated and stepped on the woman...  \n",
              "4  just when george bank ha recovered from his da...  "
            ],
            "text/html": [
              "\n",
              "  <div id=\"df-630a8274-2063-4ba0-ae05-d3a8729ed9f0\">\n",
              "    <div class=\"colab-df-container\">\n",
              "      <div>\n",
              "<style scoped>\n",
              "    .dataframe tbody tr th:only-of-type {\n",
              "        vertical-align: middle;\n",
              "    }\n",
              "\n",
              "    .dataframe tbody tr th {\n",
              "        vertical-align: top;\n",
              "    }\n",
              "\n",
              "    .dataframe thead th {\n",
              "        text-align: right;\n",
              "    }\n",
              "</style>\n",
              "<table border=\"1\" class=\"dataframe\">\n",
              "  <thead>\n",
              "    <tr style=\"text-align: right;\">\n",
              "      <th></th>\n",
              "      <th>title</th>\n",
              "      <th>overview_clean</th>\n",
              "    </tr>\n",
              "  </thead>\n",
              "  <tbody>\n",
              "    <tr>\n",
              "      <th>0</th>\n",
              "      <td>Toy Story</td>\n",
              "      <td>led by woody andys toy live happily in his roo...</td>\n",
              "    </tr>\n",
              "    <tr>\n",
              "      <th>1</th>\n",
              "      <td>Jumanji</td>\n",
              "      <td>when sibling judy and peter discover an enchan...</td>\n",
              "    </tr>\n",
              "    <tr>\n",
              "      <th>2</th>\n",
              "      <td>Grumpier Old Men</td>\n",
              "      <td>a family wedding reignites the ancient feud be...</td>\n",
              "    </tr>\n",
              "    <tr>\n",
              "      <th>3</th>\n",
              "      <td>Waiting to Exhale</td>\n",
              "      <td>cheated on mistreated and stepped on the woman...</td>\n",
              "    </tr>\n",
              "    <tr>\n",
              "      <th>4</th>\n",
              "      <td>Father of the Bride Part II</td>\n",
              "      <td>just when george bank ha recovered from his da...</td>\n",
              "    </tr>\n",
              "  </tbody>\n",
              "</table>\n",
              "</div>\n",
              "      <button class=\"colab-df-convert\" onclick=\"convertToInteractive('df-630a8274-2063-4ba0-ae05-d3a8729ed9f0')\"\n",
              "              title=\"Convert this dataframe to an interactive table.\"\n",
              "              style=\"display:none;\">\n",
              "        \n",
              "  <svg xmlns=\"http://www.w3.org/2000/svg\" height=\"24px\"viewBox=\"0 0 24 24\"\n",
              "       width=\"24px\">\n",
              "    <path d=\"M0 0h24v24H0V0z\" fill=\"none\"/>\n",
              "    <path d=\"M18.56 5.44l.94 2.06.94-2.06 2.06-.94-2.06-.94-.94-2.06-.94 2.06-2.06.94zm-11 1L8.5 8.5l.94-2.06 2.06-.94-2.06-.94L8.5 2.5l-.94 2.06-2.06.94zm10 10l.94 2.06.94-2.06 2.06-.94-2.06-.94-.94-2.06-.94 2.06-2.06.94z\"/><path d=\"M17.41 7.96l-1.37-1.37c-.4-.4-.92-.59-1.43-.59-.52 0-1.04.2-1.43.59L10.3 9.45l-7.72 7.72c-.78.78-.78 2.05 0 2.83L4 21.41c.39.39.9.59 1.41.59.51 0 1.02-.2 1.41-.59l7.78-7.78 2.81-2.81c.8-.78.8-2.07 0-2.86zM5.41 20L4 18.59l7.72-7.72 1.47 1.35L5.41 20z\"/>\n",
              "  </svg>\n",
              "      </button>\n",
              "      \n",
              "  <style>\n",
              "    .colab-df-container {\n",
              "      display:flex;\n",
              "      flex-wrap:wrap;\n",
              "      gap: 12px;\n",
              "    }\n",
              "\n",
              "    .colab-df-convert {\n",
              "      background-color: #E8F0FE;\n",
              "      border: none;\n",
              "      border-radius: 50%;\n",
              "      cursor: pointer;\n",
              "      display: none;\n",
              "      fill: #1967D2;\n",
              "      height: 32px;\n",
              "      padding: 0 0 0 0;\n",
              "      width: 32px;\n",
              "    }\n",
              "\n",
              "    .colab-df-convert:hover {\n",
              "      background-color: #E2EBFA;\n",
              "      box-shadow: 0px 1px 2px rgba(60, 64, 67, 0.3), 0px 1px 3px 1px rgba(60, 64, 67, 0.15);\n",
              "      fill: #174EA6;\n",
              "    }\n",
              "\n",
              "    [theme=dark] .colab-df-convert {\n",
              "      background-color: #3B4455;\n",
              "      fill: #D2E3FC;\n",
              "    }\n",
              "\n",
              "    [theme=dark] .colab-df-convert:hover {\n",
              "      background-color: #434B5C;\n",
              "      box-shadow: 0px 1px 3px 1px rgba(0, 0, 0, 0.15);\n",
              "      filter: drop-shadow(0px 1px 2px rgba(0, 0, 0, 0.3));\n",
              "      fill: #FFFFFF;\n",
              "    }\n",
              "  </style>\n",
              "\n",
              "      <script>\n",
              "        const buttonEl =\n",
              "          document.querySelector('#df-630a8274-2063-4ba0-ae05-d3a8729ed9f0 button.colab-df-convert');\n",
              "        buttonEl.style.display =\n",
              "          google.colab.kernel.accessAllowed ? 'block' : 'none';\n",
              "\n",
              "        async function convertToInteractive(key) {\n",
              "          const element = document.querySelector('#df-630a8274-2063-4ba0-ae05-d3a8729ed9f0');\n",
              "          const dataTable =\n",
              "            await google.colab.kernel.invokeFunction('convertToInteractive',\n",
              "                                                     [key], {});\n",
              "          if (!dataTable) return;\n",
              "\n",
              "          const docLinkHtml = 'Like what you see? Visit the ' +\n",
              "            '<a target=\"_blank\" href=https://colab.research.google.com/notebooks/data_table.ipynb>data table notebook</a>'\n",
              "            + ' to learn more about interactive tables.';\n",
              "          element.innerHTML = '';\n",
              "          dataTable['output_type'] = 'display_data';\n",
              "          await google.colab.output.renderOutput(dataTable, element);\n",
              "          const docLink = document.createElement('div');\n",
              "          docLink.innerHTML = docLinkHtml;\n",
              "          element.appendChild(docLink);\n",
              "        }\n",
              "      </script>\n",
              "    </div>\n",
              "  </div>\n",
              "  "
            ]
          },
          "metadata": {},
          "execution_count": 39
        }
      ]
    },
    {
      "cell_type": "markdown",
      "source": [
        "Se tendrán 2 exporaciones para el modelo1, en los cuales 1 tendrá la columna overview y el otro la columna overview_clean. Dado que tienen pesos diferentes el archivo finalmente escogido será aquel que pueda ser desplegado y consumido por render."
      ],
      "metadata": {
        "id": "Xz8-H7Z8GXcf"
      }
    },
    {
      "cell_type": "code",
      "source": [
        "# Se exporta las columnas necesarias para el Sistema de Recomendación\n",
        "model_1 = df[['title', 'overview']]\n",
        "model_1.to_csv('movies_recommendations.csv')"
      ],
      "metadata": {
        "id": "KZ3zHWMEw4Gd"
      },
      "execution_count": null,
      "outputs": []
    },
    {
      "cell_type": "code",
      "source": [
        "# Se exporta las columnas necesarias para el Sistema de Recomendación\n",
        "model_2 = df[['title', 'overview_clean']]\n",
        "model_2.to_csv('movies_recommendations.csv')"
      ],
      "metadata": {
        "id": "EIIphZtYG86P"
      },
      "execution_count": null,
      "outputs": []
    }
  ]
}